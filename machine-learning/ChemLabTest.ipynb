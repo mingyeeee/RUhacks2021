{
  "nbformat": 4,
  "nbformat_minor": 0,
  "metadata": {
    "colab": {
      "name": "ChemLabTest.ipynb",
      "provenance": [],
      "mount_file_id": "19DN0PR9KPHJkXL1rN4hWHCjkR-HzjyYh",
      "authorship_tag": "ABX9TyOQCNYbm2dUiVgcTBVMwC0R",
      "include_colab_link": true
    },
    "kernelspec": {
      "name": "python3",
      "display_name": "Python 3"
    },
    "language_info": {
      "name": "python"
    }
  },
  "cells": [
    {
      "cell_type": "markdown",
      "metadata": {
        "id": "view-in-github",
        "colab_type": "text"
      },
      "source": [
        "<a href=\"https://colab.research.google.com/github/mingyeeee/RUhacks2021/blob/main/machine-learning/ChemLabTest.ipynb\" target=\"_parent\"><img src=\"https://colab.research.google.com/assets/colab-badge.svg\" alt=\"Open In Colab\"/></a>"
      ]
    },
    {
      "cell_type": "code",
      "metadata": {
        "id": "bmFzLX6LtW8p"
      },
      "source": [
        "import os\n",
        "\n",
        "import numpy as np\n",
        "\n",
        "import tensorflow as tf\n",
        "assert tf.__version__.startswith('2')\n",
        "\n",
        "from tensorflow import keras"
      ],
      "execution_count": 1,
      "outputs": []
    },
    {
      "cell_type": "code",
      "metadata": {
        "colab": {
          "base_uri": "https://localhost:8080/"
        },
        "id": "gu2B7pU0ug87",
        "outputId": "4401dc94-8ce4-4bf4-f9bc-8e933a4b11d7"
      },
      "source": [
        "model = tf.keras.models.load_model('/content/drive/MyDrive/chem model/saved_model/')\n",
        "\n",
        "# Check its architecture\n",
        "model.summary()"
      ],
      "execution_count": 3,
      "outputs": [
        {
          "output_type": "stream",
          "text": [
            "Model: \"sequential\"\n",
            "_________________________________________________________________\n",
            "Layer (type)                 Output Shape              Param #   \n",
            "=================================================================\n",
            "hub_keras_layer_v1v2 (HubKer (None, 1001)              3540265   \n",
            "_________________________________________________________________\n",
            "dropout (Dropout)            (None, 1001)              0         \n",
            "_________________________________________________________________\n",
            "dense (Dense)                (None, 3)                 3006      \n",
            "=================================================================\n",
            "Total params: 3,543,271\n",
            "Trainable params: 3,509,159\n",
            "Non-trainable params: 34,112\n",
            "_________________________________________________________________\n"
          ],
          "name": "stdout"
        }
      ]
    },
    {
      "cell_type": "code",
      "metadata": {
        "colab": {
          "base_uri": "https://localhost:8080/"
        },
        "id": "nvMA1w8XwIDb",
        "outputId": "09bcc6d5-fcc1-420a-d83f-e8d8ada7e96f"
      },
      "source": [
        "import numpy as np\n",
        "import matplotlib.pylab as plt\n",
        "\n",
        "from tensorflow.keras.preprocessing.image import load_img\n",
        "from tensorflow.keras.preprocessing.image import img_to_array\n",
        "\n",
        "from tensorflow.keras.applications.imagenet_utils import decode_predictions\n",
        "\n",
        "# define a class that load and preprocess one image\n",
        "def load_process_image(file_path):\n",
        "\n",
        "  # Load image (in PIL image format by default)\n",
        "  image_original = load_img(file_path, target_size=(96, 96))\n",
        "  print(\"Image size after loading\", image_original.size)\n",
        "\n",
        "  # Convert from numpy array\n",
        "  image_array = img_to_array(image_original)\n",
        "  print(\"Image size after converting to numpy array\", image_array.shape)\n",
        "\n",
        "  # Expand dims to add batch size as 1\n",
        "  image_batch = np.expand_dims(image_array, axis=0)\n",
        "  print(\"Image size after expanding dimension\", image_batch.shape)\n",
        "\n",
        "  # Preprocess image\n",
        "  image_preprocessed = tf.keras.applications.vgg16.preprocess_input(image_batch)\n",
        "\n",
        "  return image_original, image_preprocessed\n",
        "\n",
        "image_file_path = \"/content/drive/MyDrive/chem_lab/Hydrogen/H1.jpg\"\n",
        "image_original, image_preprocessed = load_process_image(image_file_path)"
      ],
      "execution_count": 5,
      "outputs": [
        {
          "output_type": "stream",
          "text": [
            "Image size after loading (96, 96)\n",
            "Image size after converting to numpy array (96, 96, 3)\n",
            "Image size after expanding dimension (1, 96, 96, 3)\n"
          ],
          "name": "stdout"
        }
      ]
    },
    {
      "cell_type": "code",
      "metadata": {
        "colab": {
          "base_uri": "https://localhost:8080/",
          "height": 285
        },
        "id": "8P8maAkkwUHI",
        "outputId": "38058c7d-b840-405f-958a-6e5096fa5544"
      },
      "source": [
        "plt.imshow(image_original)"
      ],
      "execution_count": 6,
      "outputs": [
        {
          "output_type": "execute_result",
          "data": {
            "text/plain": [
              "<matplotlib.image.AxesImage at 0x7f04c80d37d0>"
            ]
          },
          "metadata": {
            "tags": []
          },
          "execution_count": 6
        },
        {
          "output_type": "display_data",
          "data": {
            "image/png": "[encoded data removed]",
            "text/plain": [
              "<Figure size 432x288 with 1 Axes>"
            ]
          },
          "metadata": {
            "tags": [],
            "needs_background": "light"
          }
        }
      ]
    },
    {
      "cell_type": "code",
      "metadata": {
        "id": "jeTRYzkWwYnY"
      },
      "source": [
        "predictions = model.predict(image_preprocessed)"
      ],
      "execution_count": 7,
      "outputs": []
    },
    {
      "cell_type": "code",
      "metadata": {
        "colab": {
          "base_uri": "https://localhost:8080/"
        },
        "id": "feCWqUaGwc8g",
        "outputId": "48604eb8-b849-4b99-a979-7df87e07a708"
      },
      "source": [
        "predictions.shape"
      ],
      "execution_count": 8,
      "outputs": [
        {
          "output_type": "execute_result",
          "data": {
            "text/plain": [
              "(1, 3)"
            ]
          },
          "metadata": {
            "tags": []
          },
          "execution_count": 8
        }
      ]
    },
    {
      "cell_type": "code",
      "metadata": {
        "colab": {
          "base_uri": "https://localhost:8080/"
        },
        "id": "oEGssyU6wfqC",
        "outputId": "58a7e789-a9d6-45ac-aeeb-3e0e8ce1542f"
      },
      "source": [
        "predictions"
      ],
      "execution_count": 10,
      "outputs": [
        {
          "output_type": "execute_result",
          "data": {
            "text/plain": [
              "array([[0.97609633, 0.0033923 , 0.02051132]], dtype=float32)"
            ]
          },
          "metadata": {
            "tags": []
          },
          "execution_count": 10
        }
      ]
    }
  ]
}