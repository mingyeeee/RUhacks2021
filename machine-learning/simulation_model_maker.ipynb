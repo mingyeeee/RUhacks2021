{
  "nbformat": 4,
  "nbformat_minor": 0,
  "metadata": {
    "colab": {
      "name": "simulation_model_maker.ipynb",
      "provenance": [],
      "mount_file_id": "1TD9FtFfrgy0JMZY-irvzmzKKZiVSlnVm",
      "authorship_tag": "ABX9TyN7STVqsNmw9TVUn2jZqY14",
      "include_colab_link": true
    },
    "kernelspec": {
      "name": "python3",
      "display_name": "Python 3"
    },
    "language_info": {
      "name": "python"
    }
  },
  "cells": [
    {
      "cell_type": "markdown",
      "metadata": {
        "id": "view-in-github",
        "colab_type": "text"
      },
      "source": [
        "<a href=\"https://colab.research.google.com/github/mingyeeee/RUhacks2021/blob/main/machine-learning/simulation_model_maker.ipynb\" target=\"_parent\"><img src=\"https://colab.research.google.com/assets/colab-badge.svg\" alt=\"Open In Colab\"/></a>"
      ]
    },
    {
      "cell_type": "code",
      "metadata": {
        "colab": {
          "base_uri": "https://localhost:8080/"
        },
        "id": "crvGCCuE8LCo",
        "outputId": "e35eecb4-5cbe-493a-ac02-11ff876c6f1b"
      },
      "source": [
        "!pip install -q tflite-model-maker"
      ],
      "execution_count": 1,
      "outputs": [
        {
          "output_type": "stream",
          "text": [
            "\u001b[K     |████████████████████████████████| 573kB 9.3MB/s \n",
            "\u001b[K     |████████████████████████████████| 849kB 42.7MB/s \n",
            "\u001b[K     |████████████████████████████████| 71kB 7.1MB/s \n",
            "\u001b[K     |████████████████████████████████| 645kB 23.6MB/s \n",
            "\u001b[K     |████████████████████████████████| 92kB 8.3MB/s \n",
            "\u001b[K     |████████████████████████████████| 1.2MB 38.5MB/s \n",
            "\u001b[K     |████████████████████████████████| 174kB 48.1MB/s \n",
            "\u001b[K     |████████████████████████████████| 112kB 42.3MB/s \n",
            "\u001b[K     |████████████████████████████████| 122kB 46.4MB/s \n",
            "\u001b[K     |████████████████████████████████| 1.1MB 24.1MB/s \n",
            "\u001b[K     |████████████████████████████████| 706kB 45.9MB/s \n",
            "\u001b[K     |████████████████████████████████| 5.5MB 44.6MB/s \n",
            "\u001b[K     |████████████████████████████████| 133kB 43.7MB/s \n",
            "\u001b[K     |████████████████████████████████| 358kB 21.1MB/s \n",
            "\u001b[K     |████████████████████████████████| 102kB 9.4MB/s \n",
            "\u001b[K     |████████████████████████████████| 37.6MB 100kB/s \n",
            "\u001b[K     |████████████████████████████████| 194kB 47.3MB/s \n",
            "\u001b[?25h  Building wheel for fire (setup.py) ... \u001b[?25l\u001b[?25hdone\n",
            "  Building wheel for py-cpuinfo (setup.py) ... \u001b[?25l\u001b[?25hdone\n"
          ],
          "name": "stdout"
        }
      ]
    },
    {
      "cell_type": "code",
      "metadata": {
        "id": "xpl9ZvlX8VhD"
      },
      "source": [
        "import os\n",
        "\n",
        "import numpy as np\n",
        "\n",
        "import tensorflow as tf\n",
        "assert tf.__version__.startswith('2')\n",
        "\n",
        "from tflite_model_maker import model_spec\n",
        "from tflite_model_maker import image_classifier\n",
        "from tflite_model_maker.config import ExportFormat\n",
        "from tflite_model_maker.config import QuantizationConfig\n",
        "from tflite_model_maker.image_classifier import DataLoader\n",
        "from tflite_model_maker.image_classifier import ModelSpec\n",
        "\n",
        "import matplotlib.pyplot as plt"
      ],
      "execution_count": 2,
      "outputs": []
    },
    {
      "cell_type": "code",
      "metadata": {
        "id": "Lc54lJv88Z7D"
      },
      "source": [
        "from google.colab import drive\n",
        "drive.mount('/content/drive')"
      ],
      "execution_count": null,
      "outputs": []
    },
    {
      "cell_type": "code",
      "metadata": {
        "colab": {
          "base_uri": "https://localhost:8080/"
        },
        "id": "viUOT5R48XP0",
        "outputId": "932754f6-c5ef-4cd9-dd68-41b4d35f7c37"
      },
      "source": [
        "image_path = \"/content/drive/MyDrive/simulations\"\n",
        "data = DataLoader.from_folder(image_path)\n",
        "train_data, rest_data = data.split(0.8)\n",
        "validation_data, test_data = rest_data.split(0.5)"
      ],
      "execution_count": 3,
      "outputs": [
        {
          "output_type": "stream",
          "text": [
            "INFO:tensorflow:Load image with size: 165, num_label: 5, labels: Animal, Nitrogen_Dioxide, Plant, circuit, earth.\n"
          ],
          "name": "stdout"
        }
      ]
    },
    {
      "cell_type": "code",
      "metadata": {
        "colab": {
          "base_uri": "https://localhost:8080/"
        },
        "id": "_Nwl9FZ08iDN",
        "outputId": "32c942f5-61e3-4c54-ca38-3d071ed36014"
      },
      "source": [
        "mobilenet_v2_spec = ModelSpec(uri='https://tfhub.dev/google/imagenet/mobilenet_v2_100_224/classification/5')\n",
        "mobilenet_v2_spec.input_image_shape = [224,224]\n",
        "\n",
        "model = image_classifier.create(train_data, model_spec=mobilenet_v2_spec, validation_data=validation_data)"
      ],
      "execution_count": 4,
      "outputs": [
        {
          "output_type": "stream",
          "text": [
            "INFO:tensorflow:Retraining the models...\n",
            "Model: \"sequential\"\n",
            "_________________________________________________________________\n",
            "Layer (type)                 Output Shape              Param #   \n",
            "=================================================================\n",
            "hub_keras_layer_v1v2 (HubKer (None, 1001)              3540265   \n",
            "_________________________________________________________________\n",
            "dropout (Dropout)            (None, 1001)              0         \n",
            "_________________________________________________________________\n",
            "dense (Dense)                (None, 5)                 5010      \n",
            "=================================================================\n",
            "Total params: 3,545,275\n",
            "Trainable params: 5,010\n",
            "Non-trainable params: 3,540,265\n",
            "_________________________________________________________________\n",
            "None\n",
            "Epoch 1/5\n",
            "4/4 [==============================] - 28s 6s/step - loss: 2.7635 - accuracy: 0.2979\n",
            "Epoch 2/5\n",
            "4/4 [==============================] - 5s 1s/step - loss: 0.8049 - accuracy: 0.8500\n",
            "Epoch 3/5\n",
            "4/4 [==============================] - 5s 1s/step - loss: 0.7397 - accuracy: 1.0000\n",
            "Epoch 4/5\n",
            "4/4 [==============================] - 5s 1s/step - loss: 0.9149 - accuracy: 0.9604\n",
            "Epoch 5/5\n",
            "4/4 [==============================] - 5s 1s/step - loss: 0.9437 - accuracy: 1.0000\n"
          ],
          "name": "stdout"
        }
      ]
    },
    {
      "cell_type": "code",
      "metadata": {
        "colab": {
          "base_uri": "https://localhost:8080/"
        },
        "id": "ZXTMu29V8jYH",
        "outputId": "6b8a9e4c-abf4-4089-c77a-55d954f26704"
      },
      "source": [
        "loss, accuracy = model.evaluate(test_data)"
      ],
      "execution_count": 5,
      "outputs": [
        {
          "output_type": "stream",
          "text": [
            "1/1 [==============================] - 6s 6s/step - loss: 0.8900 - accuracy: 1.0000\n"
          ],
          "name": "stdout"
        }
      ]
    },
    {
      "cell_type": "code",
      "metadata": {
        "id": "X28T6c9W8ky1",
        "colab": {
          "base_uri": "https://localhost:8080/"
        },
        "outputId": "4afa29d3-2de1-4cf3-8c15-ce8cb0f1bad5"
      },
      "source": [
        "model.export(export_dir='/content/drive/MyDrive/sim model', export_format=ExportFormat.SAVED_MODEL)"
      ],
      "execution_count": 6,
      "outputs": [
        {
          "output_type": "stream",
          "text": [
            "INFO:tensorflow:Assets written to: /content/drive/MyDrive/sim model/saved_model/assets\n"
          ],
          "name": "stdout"
        },
        {
          "output_type": "stream",
          "text": [
            "INFO:tensorflow:Assets written to: /content/drive/MyDrive/sim model/saved_model/assets\n"
          ],
          "name": "stderr"
        }
      ]
    },
    {
      "cell_type": "code",
      "metadata": {
        "colab": {
          "base_uri": "https://localhost:8080/"
        },
        "id": "JZeqenG7ryD6",
        "outputId": "f26b11ce-accf-4a2d-b010-45a0f4e98403"
      },
      "source": [
        "model.export(export_dir='/content/drive/MyDrive/sim model', export_format=ExportFormat.LABEL)"
      ],
      "execution_count": 7,
      "outputs": [
        {
          "output_type": "stream",
          "text": [
            "INFO:tensorflow:Saving labels in /content/drive/MyDrive/sim model/labels.txt.\n"
          ],
          "name": "stdout"
        },
        {
          "output_type": "stream",
          "text": [
            "INFO:tensorflow:Saving labels in /content/drive/MyDrive/sim model/labels.txt.\n"
          ],
          "name": "stderr"
        }
      ]
    }
  ]
}