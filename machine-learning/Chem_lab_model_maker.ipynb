{
  "nbformat": 4,
  "nbformat_minor": 0,
  "metadata": {
    "colab": {
      "name": "Chem_lab_model_maker.ipynb",
      "provenance": [],
      "mount_file_id": "1TD9FtFfrgy0JMZY-irvzmzKKZiVSlnVm",
      "authorship_tag": "ABX9TyPzlelQ3Za8aVq1y7qHVOF1",
      "include_colab_link": true
    },
    "kernelspec": {
      "name": "python3",
      "display_name": "Python 3"
    },
    "language_info": {
      "name": "python"
    }
  },
  "cells": [
    {
      "cell_type": "markdown",
      "metadata": {
        "id": "view-in-github",
        "colab_type": "text"
      },
      "source": [
        "<a href=\"https://colab.research.google.com/github/mingyeeee/RUhacks2021/blob/main/machine-learning/Chem_lab_model_maker.ipynb\" target=\"_parent\"><img src=\"https://colab.research.google.com/assets/colab-badge.svg\" alt=\"Open In Colab\"/></a>"
      ]
    },
    {
      "cell_type": "code",
      "metadata": {
        "colab": {
          "base_uri": "https://localhost:8080/"
        },
        "id": "crvGCCuE8LCo",
        "outputId": "94e9e473-0d6e-4472-a71b-38834ef85b0b"
      },
      "source": [
        "!pip install -q tflite-model-maker"
      ],
      "execution_count": 1,
      "outputs": [
        {
          "output_type": "stream",
          "text": [
            "\u001b[K     |████████████████████████████████| 573kB 6.7MB/s \n",
            "\u001b[K     |████████████████████████████████| 645kB 11.0MB/s \n",
            "\u001b[K     |████████████████████████████████| 5.5MB 15.4MB/s \n",
            "\u001b[K     |████████████████████████████████| 1.1MB 40.0MB/s \n",
            "\u001b[K     |████████████████████████████████| 849kB 40.5MB/s \n",
            "\u001b[K     |████████████████████████████████| 706kB 44.5MB/s \n",
            "\u001b[K     |████████████████████████████████| 71kB 4.7MB/s \n",
            "\u001b[K     |████████████████████████████████| 133kB 54.6MB/s \n",
            "\u001b[K     |████████████████████████████████| 122kB 35.9MB/s \n",
            "\u001b[K     |████████████████████████████████| 174kB 41.0MB/s \n",
            "\u001b[K     |████████████████████████████████| 1.2MB 43.4MB/s \n",
            "\u001b[K     |████████████████████████████████| 92kB 7.7MB/s \n",
            "\u001b[K     |████████████████████████████████| 112kB 41.8MB/s \n",
            "\u001b[K     |████████████████████████████████| 194kB 47.3MB/s \n",
            "\u001b[K     |████████████████████████████████| 102kB 5.7MB/s \n",
            "\u001b[K     |████████████████████████████████| 37.6MB 96kB/s \n",
            "\u001b[K     |████████████████████████████████| 358kB 53.4MB/s \n",
            "\u001b[?25h  Building wheel for fire (setup.py) ... \u001b[?25l\u001b[?25hdone\n",
            "  Building wheel for py-cpuinfo (setup.py) ... \u001b[?25l\u001b[?25hdone\n"
          ],
          "name": "stdout"
        }
      ]
    },
    {
      "cell_type": "code",
      "metadata": {
        "id": "xpl9ZvlX8VhD"
      },
      "source": [
        "import os\n",
        "\n",
        "import numpy as np\n",
        "\n",
        "import tensorflow as tf\n",
        "assert tf.__version__.startswith('2')\n",
        "\n",
        "from tflite_model_maker import model_spec\n",
        "from tflite_model_maker import image_classifier\n",
        "from tflite_model_maker.config import ExportFormat\n",
        "from tflite_model_maker.config import QuantizationConfig\n",
        "from tflite_model_maker.image_classifier import DataLoader\n",
        "from tflite_model_maker.image_classifier import ModelSpec\n",
        "\n",
        "import matplotlib.pyplot as plt"
      ],
      "execution_count": 2,
      "outputs": []
    },
    {
      "cell_type": "code",
      "metadata": {
        "id": "Lc54lJv88Z7D"
      },
      "source": [
        "from google.colab import drive\n",
        "drive.mount('/content/drive')"
      ],
      "execution_count": null,
      "outputs": []
    },
    {
      "cell_type": "code",
      "metadata": {
        "colab": {
          "base_uri": "https://localhost:8080/"
        },
        "id": "viUOT5R48XP0",
        "outputId": "d8c79129-fcf2-4aca-fb02-a5c25a745089"
      },
      "source": [
        "image_path = \"/content/drive/MyDrive/chem_lab\"\n",
        "data = DataLoader.from_folder(image_path)\n",
        "train_data, rest_data = data.split(0.8)\n",
        "validation_data, test_data = rest_data.split(0.5)"
      ],
      "execution_count": 3,
      "outputs": [
        {
          "output_type": "stream",
          "text": [
            "INFO:tensorflow:Load image with size: 123, num_label: 3, labels: Hydrogen, Nitrogen_Dioxide, Oxygen.\n"
          ],
          "name": "stdout"
        }
      ]
    },
    {
      "cell_type": "code",
      "metadata": {
        "colab": {
          "base_uri": "https://localhost:8080/"
        },
        "id": "_Nwl9FZ08iDN",
        "outputId": "9d0a8605-930e-4e4c-de48-217bf098570d"
      },
      "source": [
        "mobilenet_v2_spec = ModelSpec(uri='https://tfhub.dev/google/imagenet/mobilenet_v2_100_96/classification/4')\n",
        "mobilenet_v2_spec.input_image_shape = [96,96]\n",
        "\n",
        "model = image_classifier.create(train_data, model_spec=mobilenet_v2_spec, validation_data=validation_data)"
      ],
      "execution_count": 4,
      "outputs": [
        {
          "output_type": "stream",
          "text": [
            "INFO:tensorflow:Retraining the models...\n",
            "Model: \"sequential\"\n",
            "_________________________________________________________________\n",
            "Layer (type)                 Output Shape              Param #   \n",
            "=================================================================\n",
            "hub_keras_layer_v1v2 (HubKer (None, 1001)              3540265   \n",
            "_________________________________________________________________\n",
            "dropout (Dropout)            (None, 1001)              0         \n",
            "_________________________________________________________________\n",
            "dense (Dense)                (None, 3)                 3006      \n",
            "=================================================================\n",
            "Total params: 3,543,271\n",
            "Trainable params: 3,006\n",
            "Non-trainable params: 3,540,265\n",
            "_________________________________________________________________\n",
            "None\n",
            "Epoch 1/5\n",
            "3/3 [==============================] - 15s 3s/step - loss: 1.5352 - accuracy: 0.5260\n",
            "Epoch 2/5\n",
            "3/3 [==============================] - 1s 317ms/step - loss: 0.6251 - accuracy: 0.8190\n",
            "Epoch 3/5\n",
            "3/3 [==============================] - 1s 294ms/step - loss: 0.5018 - accuracy: 0.9740\n",
            "Epoch 4/5\n",
            "3/3 [==============================] - 1s 306ms/step - loss: 0.5671 - accuracy: 0.9857\n",
            "Epoch 5/5\n",
            "3/3 [==============================] - 1s 293ms/step - loss: 0.6035 - accuracy: 1.0000\n"
          ],
          "name": "stdout"
        }
      ]
    },
    {
      "cell_type": "code",
      "metadata": {
        "colab": {
          "base_uri": "https://localhost:8080/"
        },
        "id": "ZXTMu29V8jYH",
        "outputId": "d68036cc-81f8-40a7-e4ec-ce55942d1005"
      },
      "source": [
        "loss, accuracy = model.evaluate(test_data)"
      ],
      "execution_count": 5,
      "outputs": [
        {
          "output_type": "stream",
          "text": [
            "1/1 [==============================] - 5s 5s/step - loss: 0.5191 - accuracy: 1.0000\n"
          ],
          "name": "stdout"
        }
      ]
    },
    {
      "cell_type": "code",
      "metadata": {
        "id": "X28T6c9W8ky1",
        "colab": {
          "base_uri": "https://localhost:8080/"
        },
        "outputId": "519d2ea5-45a9-4781-a835-6154800ec913"
      },
      "source": [
        "model.export(export_dir='/content/drive/MyDrive/chem model', export_format=ExportFormat.SAVED_MODEL)"
      ],
      "execution_count": 8,
      "outputs": [
        {
          "output_type": "stream",
          "text": [
            "INFO:tensorflow:Assets written to: /content/drive/MyDrive/chem model/saved_model/assets\n"
          ],
          "name": "stdout"
        },
        {
          "output_type": "stream",
          "text": [
            "INFO:tensorflow:Assets written to: /content/drive/MyDrive/chem model/saved_model/assets\n"
          ],
          "name": "stderr"
        }
      ]
    },
    {
      "cell_type": "code",
      "metadata": {
        "colab": {
          "base_uri": "https://localhost:8080/"
        },
        "id": "JZeqenG7ryD6",
        "outputId": "6e189c17-e973-4144-f80a-4d10394f5853"
      },
      "source": [
        "model.export(export_dir='/content/drive/MyDrive/chem model', export_format=ExportFormat.LABEL)"
      ],
      "execution_count": 9,
      "outputs": [
        {
          "output_type": "stream",
          "text": [
            "INFO:tensorflow:Saving labels in /content/drive/MyDrive/chem model/labels.txt.\n"
          ],
          "name": "stdout"
        },
        {
          "output_type": "stream",
          "text": [
            "INFO:tensorflow:Saving labels in /content/drive/MyDrive/chem model/labels.txt.\n"
          ],
          "name": "stderr"
        }
      ]
    }
  ]
}